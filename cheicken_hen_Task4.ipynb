{
  "nbformat": 4,
  "nbformat_minor": 0,
  "metadata": {
    "colab": {
      "name": "cheicken_hen_Task4.ipynb",
      "provenance": [],
      "authorship_tag": "ABX9TyMNsWValyHbWhSRLBJDrJpU",
      "include_colab_link": true
    },
    "kernelspec": {
      "name": "python3",
      "display_name": "Python 3"
    },
    "language_info": {
      "name": "python"
    }
  },
  "cells": [
    {
      "cell_type": "markdown",
      "metadata": {
        "id": "view-in-github",
        "colab_type": "text"
      },
      "source": [
        "<a href=\"https://colab.research.google.com/github/affanaffan/python-sec3/blob/main/cheicken_hen_Task4.ipynb\" target=\"_parent\"><img src=\"https://colab.research.google.com/assets/colab-badge.svg\" alt=\"Open In Colab\"/></a>"
      ]
    },
    {
      "cell_type": "code",
      "execution_count": 13,
      "metadata": {
        "colab": {
          "base_uri": "https://localhost:8080/"
        },
        "id": "IsUzIvoJiogR",
        "outputId": "f2985481-6e81-406b-89c2-2dfd06f4053c"
      },
      "outputs": [
        {
          "output_type": "stream",
          "name": "stdout",
          "text": [
            "Enter number of eggs laid by each hen e.g. a,b,c,d:1,1,1,1\n",
            "Enter number of eggs laid by each hen e.g. a,b,c,d:0,0,0,1\n",
            "Enter number of eggs laid by each hen e.g. a,b,c,d:1,0,0,1\n",
            "Enter number of eggs laid by each hen e.g. a,b,c,d:1,0,0,1\n",
            "Enter number of eggs laid by each hen e.g. a,b,c,d:1,1,1,0\n",
            "Enter number of eggs laid by each hen e.g. a,b,c,d:1,1,0,0\n",
            "Enter number of eggs laid by each hen e.g. a,b,c,d:1,1,1,1\n",
            "Day 1    4eggs\n",
            "Day 2    1eggs\n",
            "Day 3    2eggs\n",
            "Day 4    2eggs\n",
            "Day 5    3eggs\n",
            "Day 6    2eggs\n",
            "Day 7    4eggs\n",
            "Number of eggs laid by hens:,  (1, 1, 1, 1)\n"
          ]
        }
      ],
      "source": [
        "flag = True\n",
        "week = 7\n",
        "countweek = 0\n",
        "weekegg = [0] * 7\n",
        "\n",
        "\n",
        "\n",
        "while flag or countweek < week:\n",
        "  day_egg = eval(input(\"Enter number of eggs laid by each hen e.g. a,b,c,d:\"))\n",
        "  for i in day_egg:\n",
        "    if i > 1:\n",
        "      print(\"hen can only lay 1 egg maximum per day!! Re-enter\")\n",
        "      day_egg = eval(input(\"Enter number of eggs laid by each hen e.g. a,b,c,d:\"))\n",
        "      flag = True\n",
        "    else:\n",
        "      flag = False\n",
        "  if flag == False:\n",
        "    weekegg[countweek] = sum(day_egg)\n",
        "    countweek += 1\n",
        "\n",
        "\n",
        "total = sum(day_egg)\n",
        "for i in range(len(weekegg)):\n",
        "\n",
        "  print(\"Day {}    {}eggs\" .format(i+1,weekegg[i+0]))\n",
        "\n",
        "\n",
        "\n",
        "\n",
        "print(\"Average eggs laid: \", sum(weekegg)/hen)\n",
        "print(\"Total number of eggs laid by hens the whole week: \", sum(weekegg))\n",
        "\n",
        "\n"
      ]
    }
  ]
}