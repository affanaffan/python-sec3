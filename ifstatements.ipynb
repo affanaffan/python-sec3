{
  "nbformat": 4,
  "nbformat_minor": 0,
  "metadata": {
    "colab": {
      "name": "ifstatements.ipynb",
      "provenance": [],
      "authorship_tag": "ABX9TyN8ihHZcaywbjz6whXTW219",
      "include_colab_link": true
    },
    "kernelspec": {
      "name": "python3",
      "display_name": "Python 3"
    },
    "language_info": {
      "name": "python"
    }
  },
  "cells": [
    {
      "cell_type": "markdown",
      "metadata": {
        "id": "view-in-github",
        "colab_type": "text"
      },
      "source": [
        "<a href=\"https://colab.research.google.com/github/affanaffan/python-sec3/blob/main/ifstatements.ipynb\" target=\"_parent\"><img src=\"https://colab.research.google.com/assets/colab-badge.svg\" alt=\"Open In Colab\"/></a>"
      ]
    },
    {
      "cell_type": "code",
      "execution_count": 6,
      "metadata": {
        "colab": {
          "base_uri": "https://localhost:8080/"
        },
        "id": "9PyV1H9cXR-U",
        "outputId": "98e82d09-e170-466f-cae7-ee898556b600"
      },
      "outputs": [
        {
          "output_type": "stream",
          "name": "stdout",
          "text": [
            "enter day: dd\n",
            "Nice day\n"
          ]
        }
      ],
      "source": [
        "cold = 'cold'\n",
        "hot = 'hot'\n",
        "userinput = str(input(\"enter day: \"))\n",
        "if userinput == cold:\n",
        "  print(\"cold day\") \n",
        "elif userinput == hot:\n",
        "  print(\"hot day\")\n",
        "else:\n",
        "  print(\"Nice day\")"
      ]
    },
    {
      "cell_type": "code",
      "source": [
        "houseprice = 1000000\n",
        "good = 'good'\n",
        "bad = 'bad'\n",
        "credit = str(input(\"Enter credit: \"))\n",
        "if credit == good:\n",
        "  print(\"You need to put down 10%\")\n",
        "  houseprice = houseprice * 0.9\n",
        "elif credit == bad:\n",
        "  print(\"you need to put down 20%\")\n",
        "  houseprice = houseprice *0.8\n",
        "print(f\"downpayment is :{houseprice}\")"
      ],
      "metadata": {
        "colab": {
          "base_uri": "https://localhost:8080/"
        },
        "id": "7YAfj7_aclLy",
        "outputId": "0abed5d8-9d31-4320-e769-bfa06bc9b044"
      },
      "execution_count": 9,
      "outputs": [
        {
          "output_type": "stream",
          "name": "stdout",
          "text": [
            "Enter credit: good\n",
            "You need to put down 10%\n",
            "downpayment is :900000.0\n"
          ]
        }
      ]
    },
    {
      "cell_type": "code",
      "source": [
        "weight = int(input(\"Enter weight : \"))\n",
        "kilogram_pound = str(input(\"Enter kilogram or weight:\"))\n",
        "kilogram_pound = kilogram_pound.lower()\n",
        "kilogram = 'k' \n",
        "pound = 'l' \n",
        "\n",
        "\n",
        "if kilogram_pound == kilogram:\n",
        "  weightkg = weight * 2.205\n",
        "  print(\"Your weight in pounds is : \", weightkg)\n",
        "elif kilogram_pound == pound:\n",
        "  weightlbs = weight * 0.45\n",
        "  print(\"Your weight in kilogram is :\",weightlbs)\n",
        "  "
      ],
      "metadata": {
        "colab": {
          "base_uri": "https://localhost:8080/"
        },
        "id": "yrfMcImXe2u0",
        "outputId": "7bffafb8-1057-45b2-b55b-ccb55242be15"
      },
      "execution_count": 16,
      "outputs": [
        {
          "output_type": "stream",
          "name": "stdout",
          "text": [
            "Enter weight : 63\n",
            "Enter kilogram or weight:K\n",
            "Your weight in pounds is :  138.915\n"
          ]
        }
      ]
    }
  ]
}