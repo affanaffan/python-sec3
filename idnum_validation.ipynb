{
  "nbformat": 4,
  "nbformat_minor": 0,
  "metadata": {
    "colab": {
      "name": "idnum_validation.ipynb",
      "provenance": [],
      "authorship_tag": "ABX9TyOr+3iQhDNYpSjqGGb+KWaE",
      "include_colab_link": true
    },
    "kernelspec": {
      "name": "python3",
      "display_name": "Python 3"
    },
    "language_info": {
      "name": "python"
    }
  },
  "cells": [
    {
      "cell_type": "markdown",
      "metadata": {
        "id": "view-in-github",
        "colab_type": "text"
      },
      "source": [
        "<a href=\"https://colab.research.google.com/github/affanaffan/python-sec3/blob/main/idnum_validation.ipynb\" target=\"_parent\"><img src=\"https://colab.research.google.com/assets/colab-badge.svg\" alt=\"Open In Colab\"/></a>"
      ]
    },
    {
      "cell_type": "code",
      "execution_count": null,
      "metadata": {
        "id": "pTBe-M670a9I"
      },
      "outputs": [],
      "source": [
        "idnum = input(\"Enter id num: \").upper()\n",
        "while (idnum[0] != 'E' and idnum[0] != 'A' and idnum[0] != 'T') or idnum[1:].isdigit() == False or len(idnum[1:]) != 4:# I added this part\n",
        "  print(\" Wrong id num, Re-enter\")\n",
        "  idnum = input(\"Enter id num: \").upper()\n",
        "\n",
        "print(\"idnum is : \",idnum)"
      ]
    }
  ]
}