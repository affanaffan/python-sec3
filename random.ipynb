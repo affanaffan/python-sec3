{
  "nbformat": 4,
  "nbformat_minor": 0,
  "metadata": {
    "colab": {
      "name": "random.ipynb",
      "provenance": [],
      "authorship_tag": "ABX9TyNO4cBv7yIuxdUGL+Q1fA1Y",
      "include_colab_link": true
    },
    "kernelspec": {
      "name": "python3",
      "display_name": "Python 3"
    },
    "language_info": {
      "name": "python"
    }
  },
  "cells": [
    {
      "cell_type": "markdown",
      "metadata": {
        "id": "view-in-github",
        "colab_type": "text"
      },
      "source": [
        "<a href=\"https://colab.research.google.com/github/affanaffan/python-sec3/blob/main/random.ipynb\" target=\"_parent\"><img src=\"https://colab.research.google.com/assets/colab-badge.svg\" alt=\"Open In Colab\"/></a>"
      ]
    },
    {
      "cell_type": "code",
      "execution_count": 3,
      "metadata": {
        "colab": {
          "base_uri": "https://localhost:8080/"
        },
        "id": "XqjOPeS25Z8T",
        "outputId": "3cd75c9a-cbd7-4bc2-b523-68c6583fef93"
      },
      "outputs": [
        {
          "output_type": "stream",
          "name": "stdout",
          "text": [
            "[7, 4, 3, 1, 5, 9, 6, 8, 2]\n"
          ]
        }
      ],
      "source": [
        "from random import shuffle\n",
        "mylist = [1,2,3,4,5,6,7,8,9]\n",
        "shuffle(mylist)\n",
        "print(mylist)"
      ]
    },
    {
      "cell_type": "code",
      "source": [
        "from random import randint\n",
        "randint(0,100)"
      ],
      "metadata": {
        "colab": {
          "base_uri": "https://localhost:8080/"
        },
        "id": "1tNPtFPb546G",
        "outputId": "6b2455ed-01a6-4cce-ae40-ce30b1fa6a75"
      },
      "execution_count": 4,
      "outputs": [
        {
          "output_type": "execute_result",
          "data": {
            "text/plain": [
              "35"
            ]
          },
          "metadata": {},
          "execution_count": 4
        }
      ]
    },
    {
      "cell_type": "code",
      "source": [
        "mystring = ['a','b','c','d','e','f']\n",
        "mylist = []\n",
        "\n",
        "\n",
        "for letter in mystring:\n",
        "  mylist.append(letter) \n",
        "print(mylist)"
      ],
      "metadata": {
        "colab": {
          "base_uri": "https://localhost:8080/"
        },
        "id": "f2z1kxJ86nun",
        "outputId": "f3923e14-82e5-4604-dce4-2344610114a4"
      },
      "execution_count": 9,
      "outputs": [
        {
          "output_type": "stream",
          "name": "stdout",
          "text": [
            "['a', 'b', 'c', 'd', 'e', 'f']\n"
          ]
        }
      ]
    }
  ]
}