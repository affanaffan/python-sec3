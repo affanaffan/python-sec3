{
  "nbformat": 4,
  "nbformat_minor": 0,
  "metadata": {
    "colab": {
      "name": "Affancleanliness",
      "provenance": [],
      "authorship_tag": "ABX9TyOk1mZbXB6+0I9aUkCAIKdq",
      "include_colab_link": true
    },
    "kernelspec": {
      "name": "python3",
      "display_name": "Python 3"
    },
    "language_info": {
      "name": "python"
    }
  },
  "cells": [
    {
      "cell_type": "markdown",
      "metadata": {
        "id": "view-in-github",
        "colab_type": "text"
      },
      "source": [
        "<a href=\"https://colab.research.google.com/github/affanaffan/python-sec3/blob/main/Affancleanliness.ipynb\" target=\"_parent\"><img src=\"https://colab.research.google.com/assets/colab-badge.svg\" alt=\"Open In Colab\"/></a>"
      ]
    },
    {
      "cell_type": "code",
      "metadata": {
        "colab": {
          "base_uri": "https://localhost:8080/"
        },
        "id": "0OTXZVI73R2n",
        "outputId": "af23af5f-6e74-429c-abf9-f576140af7a9"
      },
      "source": [
        "total = 0\n",
        "count = 0\n",
        "lowest = 4\n",
        "highest =0 \n",
        "for i in range(6):\n",
        "  inputscore = int(input(\"enter leanliness data for period\" + str(count+1) +\":\"))\n",
        "  if inputscore < 1 or inputscore > 4:\n",
        "    inputscore = int(input(\"enter cleanliness data for period\"+ str(count+1)+\":\"))\n",
        "\n",
        "  if count == 0:\n",
        "    highest = inputscore\n",
        "    lowest = inputscore\n",
        "  if inputscore > highest:\n",
        "    highest = inputscore\n",
        "  if inputscore < lowest:\n",
        "    lowest = inputscore\n",
        "\n",
        "\n",
        "  count = count +1\n",
        "  total+=inputscore\n",
        "\n",
        "print(\"cleanliness score the day :\", total)\n",
        "print(\"average clanliness score for the day:\",total/6)\n",
        "print(\"highest score of the day:\",highest)\n",
        "print(\"lowest score of the day is:\",lowest)\n"
      ],
      "execution_count": 11,
      "outputs": [
        {
          "output_type": "stream",
          "text": [
            "enter leanliness data for period1:3\n",
            "enter leanliness data for period2:2\n",
            "enter leanliness data for period3:3\n",
            "enter leanliness data for period4:3\n",
            "enter leanliness data for period5:1\n",
            "enter leanliness data for period6:4\n",
            "cleanliness score the day : 16\n",
            "average clanliness score for the day: 2.6666666666666665\n",
            "highest score of the day: 4\n",
            "lowest score of the day is: 1\n"
          ],
          "name": "stdout"
        }
      ]
    }
  ]
}