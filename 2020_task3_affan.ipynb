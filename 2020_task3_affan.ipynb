{
  "nbformat": 4,
  "nbformat_minor": 0,
  "metadata": {
    "colab": {
      "name": "2020_task3_affan.ipynb",
      "provenance": [],
      "authorship_tag": "ABX9TyOJ32/ZMmulIpw2rTR+W1BP",
      "include_colab_link": true
    },
    "kernelspec": {
      "name": "python3",
      "display_name": "Python 3"
    },
    "language_info": {
      "name": "python"
    }
  },
  "cells": [
    {
      "cell_type": "markdown",
      "metadata": {
        "id": "view-in-github",
        "colab_type": "text"
      },
      "source": [
        "<a href=\"https://colab.research.google.com/github/affanaffan/python-sec3/blob/main/2020_task3_affan.ipynb\" target=\"_parent\"><img src=\"https://colab.research.google.com/assets/colab-badge.svg\" alt=\"Open In Colab\"/></a>"
      ]
    },
    {
      "cell_type": "code",
      "execution_count": 9,
      "metadata": {
        "colab": {
          "base_uri": "https://localhost:8080/"
        },
        "id": "rULlfpes5MhE",
        "outputId": "d15b84f8-9eeb-4882-9d57-e4fab438f199"
      },
      "outputs": [
        {
          "output_type": "stream",
          "name": "stdout",
          "text": [
            "Enter length of box: 15\n",
            "Enter width of box :  5\n",
            "Enter weight of box: 25\n",
            "Is there any more packages to be checked?'Y' or 'N': Y\n",
            "Enter length of box: 15\n",
            "Enter width of box :  5\n",
            "Enter weight of box: 33\n",
            "Is there any more packages to be checked?'Y' or 'N': N\n",
            "Total number of correct boxes is 1:\n",
            "Total number of rejected boxes is 1:\n",
            "Total number of cheked boxes is 2:\n"
          ]
        }
      ],
      "source": [
        "checkcount = 0\n",
        "reject = 0\n",
        "correct = 0\n",
        "flag = True\n",
        "\n",
        "while flag or anymore == 'Y':\n",
        "  length = int(input(\"Enter length of box: \"))\n",
        "  width = int(input(\"Enter width of box :  \"))\n",
        "  weight = int(input(\"Enter weight of box: \"))\n",
        "  if length != 15 or width != 5 or weight != 25:\n",
        "    reject += 1\n",
        "  else:\n",
        "    correct +=1\n",
        "  checkcount +=1\n",
        "  anymore = input(\"Is there any more packages to be checked?'Y' or 'N': \")\n",
        "  if anymore == 'N':\n",
        "    flag = False\n",
        "  else:\n",
        "    flag = True\n",
        "\n",
        "print(\"Total number of correct boxes is {}:\".format(correct))\n",
        "print(\"Total number of rejected boxes is {}:\".format(reject))\n",
        "print(\"Total number of cheked boxes is {}:\".format(checkcount))\n"
      ]
    },
    {
      "cell_type": "code",
      "source": [
        ""
      ],
      "metadata": {
        "id": "d8HkoGHz6P0_"
      },
      "execution_count": null,
      "outputs": []
    }
  ]
}