{
  "nbformat": 4,
  "nbformat_minor": 0,
  "metadata": {
    "colab": {
      "name": "Untitled1.ipynb",
      "provenance": [],
      "authorship_tag": "ABX9TyOPg6vSAC0UqblZtZhmXwRA",
      "include_colab_link": true
    },
    "kernelspec": {
      "name": "python3",
      "display_name": "Python 3"
    },
    "language_info": {
      "name": "python"
    }
  },
  "cells": [
    {
      "cell_type": "markdown",
      "metadata": {
        "id": "view-in-github",
        "colab_type": "text"
      },
      "source": [
        "<a href=\"https://colab.research.google.com/github/affanaffan/python-sec3/blob/main/Untitled1.ipynb\" target=\"_parent\"><img src=\"https://colab.research.google.com/assets/colab-badge.svg\" alt=\"Open In Colab\"/></a>"
      ]
    },
    {
      "cell_type": "code",
      "metadata": {
        "colab": {
          "base_uri": "https://localhost:8080/"
        },
        "id": "W-YDQwLqZQry",
        "outputId": "277a53de-2f7a-4715-b49b-e1e4b11ecba7"
      },
      "source": [
        "onelist = []\n",
        "inner = 3\n",
        "outer = 3\n",
        "students = []\n",
        "for i in range(outer):\n",
        "  print(\"enter number of student{}:\".format(i+1))\n",
        "  onelist  = []\n",
        "  for j in range(outer):\n",
        "    mark = eval(input(\"enter subject{} mark:\".format(j+1)))\n",
        "    onelist.append(mark)\n",
        "    print(\"mark:\",onelist)\n",
        "    average = sum(onelist)\n",
        "    print(\"student {} average subject mark:\".format(i+1),average/outer)\n",
        "  students.append(onelist)\n",
        "  print(\"student mark:\",students)  "
      ],
      "execution_count": null,
      "outputs": [
        {
          "output_type": "stream",
          "text": [
            "enter number of student1:\n"
          ],
          "name": "stdout"
        }
      ]
    }
  ]
}