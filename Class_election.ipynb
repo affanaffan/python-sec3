{
  "nbformat": 4,
  "nbformat_minor": 0,
  "metadata": {
    "colab": {
      "name": "Class_election",
      "provenance": [],
      "toc_visible": true,
      "authorship_tag": "ABX9TyMfikmo9CsxpDY/Qm5Lof3V",
      "include_colab_link": true
    },
    "kernelspec": {
      "name": "python3",
      "display_name": "Python 3"
    },
    "language_info": {
      "name": "python"
    }
  },
  "cells": [
    {
      "cell_type": "markdown",
      "metadata": {
        "id": "view-in-github",
        "colab_type": "text"
      },
      "source": [
        "<a href=\"https://colab.research.google.com/github/affanaffan/python-sec3/blob/main/Class_election.ipynb\" target=\"_parent\"><img src=\"https://colab.research.google.com/assets/colab-badge.svg\" alt=\"Open In Colab\"/></a>"
      ]
    },
    {
      "cell_type": "code",
      "metadata": {
        "colab": {
          "base_uri": "https://localhost:8080/"
        },
        "id": "gITB22N5J1hm",
        "outputId": "75988794-9780-465b-c96b-ae755db599cd"
      },
      "source": [
        "\n",
        "def add(a,b):\n",
        "  return a+b\n",
        "def hello_name(name):\n",
        "  print( \"hello \" + name) \n",
        "z = \"affan\"\n",
        "add(1,2)\n",
        "print(add(1,2))\n",
        "hello_name(z)\n",
        "\n",
        "\n",
        "\n",
        "\n",
        "\n",
        "\n",
        "\n",
        "\n",
        "\n",
        "Total_students = int(input(\"Enter number of students voting:\"))\n",
        "Num_candidates = int(input(\"Enter number of candidates for chairperson:\"))\n",
        "myarray = [i]*Num_candidates\n",
        "mycounter = [0]*Num_candidates\n",
        "\n",
        "for i in range(Num_candidates):\n",
        "  name = input(\"Enter name of candidate:\")\n",
        "  myarray[i] = name\n",
        "for x in range(Total_students):\n",
        "  vote = int(input(\"Enter your vote:\"))\n",
        "  if vote < 1 or vote > Num_candidates:\n",
        "\n",
        "    print(\"Invalid vote!\")\n",
        "    print(\"reenter vote!\")\n",
        "    vote = int(input(\"Enter your vote:\"))\n",
        "    vote = vote - 1\n",
        "    mycounter[vote] = mycounter[vote] + 1\n",
        "  else:\n",
        "    vote = vote - 1\n",
        "    mycounter[vote] = mycounter[vote] + 1\n",
        "\n",
        "\n",
        "maxvalue = max(mycounter)\n",
        "maxindex = mycounter.index(maxvalue)\n",
        "print(\"NEW CLASS CHAIRPERSON IS:\",myarray[maxindex])\n",
        "mycounter[maxindex] = 0\n",
        "\n",
        "\n",
        "\n",
        "maxvalue = max(mycounter)\n",
        "maxindex = mycounter.index(maxvalue)\n",
        "print(\"NEW CLASS vice-CHAIRPERSON IS:\",myarray[maxindex])\n",
        "\n",
        "\n",
        "\n",
        "\n",
        "\n",
        "\n",
        "\n",
        "\n",
        "\n",
        "\n",
        "\n",
        "\n",
        "\n",
        "\n",
        "\n",
        "\n",
        "\n",
        "\n",
        "\n",
        "\n"
      ],
      "execution_count": 37,
      "outputs": [
        {
          "output_type": "stream",
          "text": [
            "3\n",
            "hello affan\n",
            "Enter number of students voting:5\n",
            "Enter number of candidates for chairperson:3\n",
            "Enter name of candidate:a\n",
            "Enter name of candidate:b\n",
            "Enter name of candidate:c\n",
            "Enter your vote:2\n",
            "Enter your vote:2\n",
            "Enter your vote:2\n",
            "Enter your vote:1\n",
            "Enter your vote:1\n",
            "NEW CLASS CHAIRPERSON IS: b\n",
            "NEW CLASS vice-CHAIRPERSON IS: a\n"
          ],
          "name": "stdout"
        }
      ]
    }
  ]
}