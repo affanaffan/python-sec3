{
  "nbformat": 4,
  "nbformat_minor": 0,
  "metadata": {
    "colab": {
      "name": "Affanuserinput",
      "provenance": [],
      "authorship_tag": "ABX9TyNSq/HmuTMQadrU68XxRq3l",
      "include_colab_link": true
    },
    "kernelspec": {
      "name": "python3",
      "display_name": "Python 3"
    },
    "language_info": {
      "name": "python"
    }
  },
  "cells": [
    {
      "cell_type": "markdown",
      "metadata": {
        "id": "view-in-github",
        "colab_type": "text"
      },
      "source": [
        "<a href=\"https://colab.research.google.com/github/affanaffan/python-sec3/blob/main/Affanuserinput.ipynb\" target=\"_parent\"><img src=\"https://colab.research.google.com/assets/colab-badge.svg\" alt=\"Open In Colab\"/></a>"
      ]
    },
    {
      "cell_type": "code",
      "metadata": {
        "colab": {
          "base_uri": "https://localhost:8080/"
        },
        "id": "7VdpDSJ18WnP",
        "outputId": "c1e63519-f152-4982-b5bc-bc69161c4590"
      },
      "source": [
        "total = 0\n",
        "count = 0\n",
        "isrun = True\n",
        "while isrun:\n",
        "  number = eval(input(\"enter number\" +str(count+1)+\":\"))\n",
        "  if number == -1:\n",
        "    isrun = False\n",
        "  elif number >= 0:\n",
        "    total+=number\n",
        "    count+=1\n",
        "print(\"average value\",total/count)"
      ],
      "execution_count": 25,
      "outputs": [
        {
          "output_type": "stream",
          "text": [
            "enter number1:3\n",
            "enter number2:3\n",
            "enter number3:-3\n",
            "enter number3:4\n",
            "enter number4:-1\n",
            "average value 3.3333333333333335\n"
          ],
          "name": "stdout"
        }
      ]
    }
  ]
}