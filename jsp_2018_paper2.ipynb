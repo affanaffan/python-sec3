{
  "nbformat": 4,
  "nbformat_minor": 0,
  "metadata": {
    "colab": {
      "name": "jsp_2018_paper2.ipynb",
      "provenance": [],
      "authorship_tag": "ABX9TyNULSDsWzPodVm+JUChjLNK",
      "include_colab_link": true
    },
    "kernelspec": {
      "name": "python3",
      "display_name": "Python 3"
    },
    "language_info": {
      "name": "python"
    }
  },
  "cells": [
    {
      "cell_type": "markdown",
      "metadata": {
        "id": "view-in-github",
        "colab_type": "text"
      },
      "source": [
        "<a href=\"https://colab.research.google.com/github/affanaffan/python-sec3/blob/main/jsp_2018_paper2.ipynb\" target=\"_parent\"><img src=\"https://colab.research.google.com/assets/colab-badge.svg\" alt=\"Open In Colab\"/></a>"
      ]
    },
    {
      "cell_type": "code",
      "execution_count": 12,
      "metadata": {
        "colab": {
          "base_uri": "https://localhost:8080/"
        },
        "id": "w2wMcTfF2ysV",
        "outputId": "fffc40c8-8b92-4d24-d7d7-d6c6b3a31123"
      },
      "outputs": [
        {
          "name": "stdout",
          "output_type": "stream",
          "text": [
            "Enter the Computing test score  99\n",
            "Enter the Mathematics test score 88\n",
            "Student is awarded a silver award\n",
            "Any more test scores to enter? Type 'Y' or 'N' N\n"
          ]
        }
      ],
      "source": [
        "students = False\n",
        "while students == False:#error2\n",
        "    comp = int(input(\"Enter the Computing test score  \"))#error3\n",
        "    math = int(input(\"Enter the Mathematics test score \" ))#error1\n",
        "    joint_score = comp + comp\n",
        "    if comp > 100 and math > 100:\n",
        "        print(\"Student is awarded a gold award\")    \n",
        "    elif comp >= 100 and math >= 100 or joint_score >= 180:\n",
        "        print(\"Student is awarded a silver award\")\n",
        "    elif comp >= 75 and math >= 75:\n",
        "        print(\"Student is awarded a bronze award\")\n",
        "    else:\n",
        "        print(\"No award this time, keep trying\")\n",
        "    more_scores = input(\"Any more test scores to enter? Type 'Y' or 'N' \")\n",
        "    if more_scores == 'N':#error4\n",
        "        students = True \n",
        "    else:\n",
        "        students = False#error5\n"
      ]
    }
  ]
}