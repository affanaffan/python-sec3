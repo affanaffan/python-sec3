{
  "nbformat": 4,
  "nbformat_minor": 0,
  "metadata": {
    "colab": {
      "name": "national_affan_Task2.ipynb",
      "provenance": [],
      "authorship_tag": "ABX9TyOm1XixQha+Lw4PUiwhi86e",
      "include_colab_link": true
    },
    "kernelspec": {
      "name": "python3",
      "display_name": "Python 3"
    },
    "language_info": {
      "name": "python"
    }
  },
  "cells": [
    {
      "cell_type": "markdown",
      "metadata": {
        "id": "view-in-github",
        "colab_type": "text"
      },
      "source": [
        "<a href=\"https://colab.research.google.com/github/affanaffan/python-sec3/blob/main/national_affan_Task2.ipynb\" target=\"_parent\"><img src=\"https://colab.research.google.com/assets/colab-badge.svg\" alt=\"Open In Colab\"/></a>"
      ]
    },
    {
      "cell_type": "code",
      "execution_count": 15,
      "metadata": {
        "colab": {
          "base_uri": "https://localhost:8080/"
        },
        "id": "URGpA4Ri-w4X",
        "outputId": "4b2ccc1b-cef9-42bd-d34f-3a5ffe57d433"
      },
      "outputs": [
        {
          "output_type": "stream",
          "name": "stdout",
          "text": [
            "Please enter your first name: bobby\n",
            "Please enter your last name: benjamin\n",
            "Your username is bobbenjamin\n",
            "Please enter a password: 12345678\n",
            "Please enter a Re-enter password: 2345\n",
            "Password entries do not match\n",
            "Please enter a Re-enter password: 12345678\n",
            "Your password has been set\n"
          ]
        }
      ],
      "source": [
        "firstname = input(\"Please enter your first name: \")\n",
        "lastname = input (\"Please enter your last name: \")\n",
        "username = firstname [0:3] + lastname #q6\n",
        "print (\"Your username is \" + username)\n",
        "A = True\n",
        "while A:#Q7a\n",
        "  password = input (\"Please enter a password: \")\n",
        "  if len(password) < 8:\n",
        "    print(\"Password should be more than 8 characters!\")\n",
        "    A = True\n",
        "  else:\n",
        "    A = False\n",
        "B = True\n",
        "while B:#Q7b \n",
        "  Bpassword = input (\"Please enter a Re-enter password: \")\n",
        "  if Bpassword == password:\n",
        "    print(\"Your password has been set\")\n",
        "    B = False\n",
        "  else:\n",
        "    print(\"Password entries do not match\")\n",
        "    B = True\n",
        "\n"
      ]
    }
  ]
}