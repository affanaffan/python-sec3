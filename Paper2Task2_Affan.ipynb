{
  "nbformat": 4,
  "nbformat_minor": 0,
  "metadata": {
    "colab": {
      "name": "Paper2Task2_Affan.ipynb",
      "provenance": [],
      "authorship_tag": "ABX9TyNVVdEkhzxrAAMElbql7Mm7",
      "include_colab_link": true
    },
    "kernelspec": {
      "name": "python3",
      "display_name": "Python 3"
    },
    "language_info": {
      "name": "python"
    }
  },
  "cells": [
    {
      "cell_type": "markdown",
      "metadata": {
        "id": "view-in-github",
        "colab_type": "text"
      },
      "source": [
        "<a href=\"https://colab.research.google.com/github/affanaffan/python-sec3/blob/main/Paper2Task2_Affan.ipynb\" target=\"_parent\"><img src=\"https://colab.research.google.com/assets/colab-badge.svg\" alt=\"Open In Colab\"/></a>"
      ]
    },
    {
      "cell_type": "code",
      "execution_count": 26,
      "metadata": {
        "colab": {
          "base_uri": "https://localhost:8080/"
        },
        "id": "fIf8P--LGWVs",
        "outputId": "381723b2-6468-4dd5-c53a-0e58ce07cf6f"
      },
      "outputs": [
        {
          "output_type": "stream",
          "name": "stdout",
          "text": [
            "Enter a mark for the test: 66\n",
            "Enter a mark for the test: 11\n",
            "Enter a mark for the test: 44\n",
            "Enter a mark for the test: 55\n",
            "Enter a mark for the test: 999\n",
            "test score must be within 0 and 100! RE-enter\n",
            "Enter a mark for the test: 99\n",
            "Lowest mark for the test is:  11\n",
            "Highest mark for the test is:  99\n",
            "Average mark for the test is:  55.0\n"
          ]
        }
      ],
      "source": [
        "test_lowest = 101#7b\n",
        "test_highest = 0\n",
        "test_total = 0\n",
        "student = 5 #7a\n",
        "number_of_student = 5\n",
        "for count in range(student):\n",
        "    test = int(input(\"Enter a mark for the test: \"))\n",
        "    if test < 0 or test > 100:\n",
        "      print(\"test score must be within 0 and 100! RE-enter\")#7c\n",
        "      student = student - 1\n",
        "      test = int(input(\"Enter a mark for the test: \"))\n",
        "    if test_highest < test:\n",
        "      test_highest = test\n",
        "    if test < test_lowest:\n",
        "      test_lowest = test\n",
        "      \n",
        "    test_total = test_total + test\n",
        "print(\"Lowest mark for the test is: \",test_lowest)\n",
        "print(\"Highest mark for the test is: \",test_highest)\n",
        "test_average = test_total / number_of_student\n",
        "print(\"Average mark for the test is: \", test_average)"
      ]
    }
  ]
}