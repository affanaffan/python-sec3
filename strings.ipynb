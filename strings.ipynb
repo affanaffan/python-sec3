{
  "nbformat": 4,
  "nbformat_minor": 0,
  "metadata": {
    "colab": {
      "name": "strings.ipynb",
      "provenance": [],
      "authorship_tag": "ABX9TyNp1RwCipLURNe1KBsfUH6d",
      "include_colab_link": true
    },
    "kernelspec": {
      "name": "python3",
      "display_name": "Python 3"
    },
    "language_info": {
      "name": "python"
    }
  },
  "cells": [
    {
      "cell_type": "markdown",
      "metadata": {
        "id": "view-in-github",
        "colab_type": "text"
      },
      "source": [
        "<a href=\"https://colab.research.google.com/github/affanaffan/python-sec3/blob/main/strings.ipynb\" target=\"_parent\"><img src=\"https://colab.research.google.com/assets/colab-badge.svg\" alt=\"Open In Colab\"/></a>"
      ]
    },
    {
      "cell_type": "code",
      "execution_count": 3,
      "metadata": {
        "colab": {
          "base_uri": "https://localhost:8080/"
        },
        "id": "L_BgERz4P2EU",
        "outputId": "e6380f0d-9846-4df5-ab50-37803caaba8d"
      },
      "outputs": [
        {
          "output_type": "stream",
          "name": "stdout",
          "text": [
            "school for chilren\n"
          ]
        }
      ],
      "source": [
        "starting = \"school for students\"\n",
        "print(starting.replace('students', 'chilren'))"
      ]
    },
    {
      "cell_type": "code",
      "source": [
        "starting = \"school for students\"\n",
        "print(starting.find('s'))"
      ],
      "metadata": {
        "colab": {
          "base_uri": "https://localhost:8080/"
        },
        "id": "pYqizqhZRqbz",
        "outputId": "7f5d7087-bf87-4ba4-88b0-e8f9d190e7c1"
      },
      "execution_count": 5,
      "outputs": [
        {
          "output_type": "stream",
          "name": "stdout",
          "text": [
            "0\n"
          ]
        }
      ]
    },
    {
      "cell_type": "code",
      "source": [
        "starting = \"school for students\"\n",
        "print('school' in starting)"
      ],
      "metadata": {
        "colab": {
          "base_uri": "https://localhost:8080/"
        },
        "id": "ryapENQrXnmP",
        "outputId": "da1cf0b2-fa0a-4ed3-abcd-5c91ec64822d"
      },
      "execution_count": 6,
      "outputs": [
        {
          "output_type": "stream",
          "name": "stdout",
          "text": [
            "True\n"
          ]
        }
      ]
    },
    {
      "cell_type": "code",
      "source": [
        "starting = \"school for students\"\n",
        "print(starting.title())"
      ],
      "metadata": {
        "colab": {
          "base_uri": "https://localhost:8080/"
        },
        "id": "mFWedT38X8bk",
        "outputId": "1ffbeb7b-9795-4a9f-88f5-d7e5616d8aad"
      },
      "execution_count": 7,
      "outputs": [
        {
          "output_type": "stream",
          "name": "stdout",
          "text": [
            "School For Students\n"
          ]
        }
      ]
    }
  ]
}