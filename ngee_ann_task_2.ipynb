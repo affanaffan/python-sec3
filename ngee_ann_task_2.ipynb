{
  "nbformat": 4,
  "nbformat_minor": 0,
  "metadata": {
    "colab": {
      "name": "ngee_ann_task_2.ipynb",
      "provenance": [],
      "authorship_tag": "ABX9TyP2UaZeXcb9X/X8e0MtAquT",
      "include_colab_link": true
    },
    "kernelspec": {
      "name": "python3",
      "display_name": "Python 3"
    },
    "language_info": {
      "name": "python"
    }
  },
  "cells": [
    {
      "cell_type": "markdown",
      "metadata": {
        "id": "view-in-github",
        "colab_type": "text"
      },
      "source": [
        "<a href=\"https://colab.research.google.com/github/affanaffan/python-sec3/blob/main/ngee_ann_task_2.ipynb\" target=\"_parent\"><img src=\"https://colab.research.google.com/assets/colab-badge.svg\" alt=\"Open In Colab\"/></a>"
      ]
    },
    {
      "cell_type": "code",
      "execution_count": 21,
      "metadata": {
        "colab": {
          "base_uri": "https://localhost:8080/"
        },
        "id": "GgGIZO6jgqJ4",
        "outputId": "907cda9c-ff60-4abe-8534-2affbf6a8405"
      },
      "outputs": [
        {
          "output_type": "stream",
          "name": "stdout",
          "text": [
            "81\n",
            "You have 5 tries to guess a number.\n",
            "Enter a number: 81\n",
            "You got the number!\n"
          ]
        }
      ],
      "source": [
        "import random\n",
        "\n",
        "ans = random.randint(1,100)\n",
        "\n",
        "tries = 5 #error 2                                \n",
        "print(\"You have 5 tries to guess a number.\")\n",
        "x = int(input(\"Enter a number: \"))                       \n",
        "\n",
        "while x != ans and tries > 1 :#error3 and4            \n",
        "    if x > ans:                                         \n",
        "        print (\"Your guess is too high!\")#error9\n",
        "    else:\n",
        "        print(\"Your guess is too low!\")\n",
        "        \n",
        "    tries -= 1 #error 8                                \n",
        "    print(\"Tries remaining: {}\".format(tries)) #error7           \n",
        "    x = int(input(\"Enter a number: \"))#error1                                            \n",
        "    \n",
        "if x == ans:#error5                                     \n",
        "    print(\"You got the number!\")\n",
        "else:      #error6 and 10                       \n",
        "    print(\"You are out of tries!\")\n",
        "    print(\"The number is\", ans)"
      ]
    },
    {
      "cell_type": "code",
      "source": [
        ""
      ],
      "metadata": {
        "id": "IbHpaZT_mSUf"
      },
      "execution_count": null,
      "outputs": []
    }
  ]
}