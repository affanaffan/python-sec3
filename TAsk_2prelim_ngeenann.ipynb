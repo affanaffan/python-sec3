{
  "nbformat": 4,
  "nbformat_minor": 0,
  "metadata": {
    "colab": {
      "name": "TAsk_2prelim_ngeenann.ipynb",
      "provenance": [],
      "authorship_tag": "ABX9TyOZRzPUoG2Vtzf0qGlaQObr",
      "include_colab_link": true
    },
    "kernelspec": {
      "name": "python3",
      "display_name": "Python 3"
    },
    "language_info": {
      "name": "python"
    }
  },
  "cells": [
    {
      "cell_type": "markdown",
      "metadata": {
        "id": "view-in-github",
        "colab_type": "text"
      },
      "source": [
        "<a href=\"https://colab.research.google.com/github/affanaffan/python-sec3/blob/main/TAsk_2prelim_ngeenann.ipynb\" target=\"_parent\"><img src=\"https://colab.research.google.com/assets/colab-badge.svg\" alt=\"Open In Colab\"/></a>"
      ]
    },
    {
      "cell_type": "code",
      "execution_count": 9,
      "metadata": {
        "colab": {
          "base_uri": "https://localhost:8080/"
        },
        "id": "1VMAK1CJsnpd",
        "outputId": "6a5e5bd0-61a9-43f5-a44c-c9a976c14d81"
      },
      "outputs": [
        {
          "output_type": "stream",
          "name": "stdout",
          "text": [
            "Welcome to All-Health Salad Bar!\n",
            "Please select your toppings below.\n",
            "Quantity of ham: 0\n",
            "Quantity of cheese: 0\n",
            "Quantity of lettuce: 3\n",
            "Quantity of tomatoes: 3\n",
            "Quantity of capsicum: 3\n",
            "Health score is : 26.1\n",
            "Total cost: $ 2.0\n",
            "You got 1 dollar discount\n"
          ]
        }
      ],
      "source": [
        "toppings = ['ham', 'cheese', 'lettuce', 'tomatoes','capsicum']\n",
        "top_cost = [1, 0.8, 0.5, 0.5,0.8]\n",
        "ham_score = -1\n",
        "cheese_score = -0.5\n",
        "lettuce_score = 3\n",
        "tomatoes_score = 2.5\n",
        "capsicum_score = 3.2\n",
        "\n",
        "print(\"Welcome to All-Health Salad Bar!\")\n",
        "print(\"Please select your toppings below.\")\n",
        "\n",
        "flag = True\n",
        "while flag:\n",
        "  ham = int(input(\"Quantity of ham: \"))\n",
        "  cheese = int(input(\"Quantity of cheese: \"))\n",
        "  lettuce = int(input(\"Quantity of lettuce: \"))\n",
        "  tomatoes = int(input(\"Quantity of tomatoes: \"))\n",
        "  capsicum = int(input(\"Quantity of capsicum: \"))\n",
        "  total_cost = ham*top_cost[0] + cheese*top_cost[1] + lettuce*top_cost[2] + tomatoes*top_cost[3]\n",
        "  Health_score = ham *ham_score + cheese*cheese_score + lettuce*lettuce_score + tomatoes*tomatoes_score + capsicum*capsicum_score\n",
        "  print(\"Health score is :\",Health_score)\n",
        "  if total_cost < 3:\n",
        "    print(\"Order must more than 3 dollars\")\n",
        "    flag = True\n",
        "  else:\n",
        "    flag = False\n",
        "  if total_cost > 5:\n",
        "    print(\"You are entitled to a free drink\")\n",
        " \n",
        "if Health_score >= 10 :\n",
        "  print(\"Total cost: $\", total_cost-1)\n",
        "  print(\"You got 1 dollar discount\")\n",
        "else:\n",
        "  print(\"Total Cost : $\",total_cost)"
      ]
    }
  ]
}