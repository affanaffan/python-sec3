{
  "nbformat": 4,
  "nbformat_minor": 0,
  "metadata": {
    "colab": {
      "name": "whileloops.ipynb",
      "provenance": [],
      "authorship_tag": "ABX9TyOTAzWnSpq5e6T6DEqSbxFa",
      "include_colab_link": true
    },
    "kernelspec": {
      "name": "python3",
      "display_name": "Python 3"
    },
    "language_info": {
      "name": "python"
    }
  },
  "cells": [
    {
      "cell_type": "markdown",
      "metadata": {
        "id": "view-in-github",
        "colab_type": "text"
      },
      "source": [
        "<a href=\"https://colab.research.google.com/github/affanaffan/python-sec3/blob/main/whileloops.ipynb\" target=\"_parent\"><img src=\"https://colab.research.google.com/assets/colab-badge.svg\" alt=\"Open In Colab\"/></a>"
      ]
    },
    {
      "cell_type": "code",
      "execution_count": 2,
      "metadata": {
        "colab": {
          "base_uri": "https://localhost:8080/"
        },
        "id": "1jGZaFmWibEB",
        "outputId": "21bb9c97-ac98-4dc0-e2b4-630b8f0897f7"
      },
      "outputs": [
        {
          "output_type": "stream",
          "name": "stdout",
          "text": [
            "ENter limit: 3\n",
            "Enter guess:1\n",
            "wrong guess\n",
            "Enter guess:2\n",
            "wrong guess\n",
            "Enter guess:3\n",
            "wrong guess\n"
          ]
        }
      ],
      "source": [
        "secret_number = 10\n",
        "guess = 0\n",
        "guess_limit = int(input('ENter limit: '))\n",
        "while guess < guess_limit:\n",
        "  guess_number = int(input(\"Enter guess:\"))\n",
        "  guess += 1\n",
        "  if guess_number == secret_number :\n",
        "    print(\"You won the game\")\n",
        "    break\n",
        "  else:\n",
        "    print(\"wrong guess\")\n",
        "else:\n",
        "  print(\"you lost\")\n",
        "\n"
      ]
    },
    {
      "cell_type": "code",
      "source": [
        "command = \"\"\n",
        "started = False\n",
        "stopped = False\n",
        "while True:\n",
        "  command = input(\"<\").lower()\n",
        "  if command == 'start':\n",
        "    if started:\n",
        "      print(\"car is already started\")\n",
        "    else:\n",
        "      started = True\n",
        "      print(\"car started\")\n",
        "  elif command == 'stop':\n",
        "    if stopped:\n",
        "      print(\"car is already stopped\")\n",
        "    else:\n",
        "      stopped = True\n",
        "      print(\"car is stopped\")\n",
        "  elif command == 'help':\n",
        "    print(\"\"\"\n",
        "    start = car started\n",
        "    stop = car stopped\n",
        "    quit = game over\n",
        "    \"\"\")\n",
        "  elif command == 'quit':\n",
        "    break\n",
        "\n",
        "  else:\n",
        "    print(\"I don't understand what you trying to say\")"
      ],
      "metadata": {
        "colab": {
          "base_uri": "https://localhost:8080/"
        },
        "id": "w7zzpoE0ki4w",
        "outputId": "988c6c9b-1d4b-43f1-80aa-891717c1e586"
      },
      "execution_count": null,
      "outputs": [
        {
          "output_type": "stream",
          "name": "stdout",
          "text": [
            "<start\n",
            "car started\n",
            "<start\n",
            "car is already started\n"
          ]
        }
      ]
    }
  ]
}