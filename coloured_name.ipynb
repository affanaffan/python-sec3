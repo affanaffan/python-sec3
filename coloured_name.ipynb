{
  "nbformat": 4,
  "nbformat_minor": 0,
  "metadata": {
    "colab": {
      "name": "coloured_name.ipynb",
      "provenance": [],
      "authorship_tag": "ABX9TyMo8S8FST3X8pUUkxJ6lpkF",
      "include_colab_link": true
    },
    "kernelspec": {
      "name": "python3",
      "display_name": "Python 3"
    },
    "language_info": {
      "name": "python"
    }
  },
  "cells": [
    {
      "cell_type": "markdown",
      "metadata": {
        "id": "view-in-github",
        "colab_type": "text"
      },
      "source": [
        "<a href=\"https://colab.research.google.com/github/affanaffan/python-sec3/blob/main/coloured_name.ipynb\" target=\"_parent\"><img src=\"https://colab.research.google.com/assets/colab-badge.svg\" alt=\"Open In Colab\"/></a>"
      ]
    },
    {
      "cell_type": "code",
      "execution_count": null,
      "metadata": {
        "colab": {
          "base_uri": "https://localhost:8080/"
        },
        "id": "65RVK7tpnVRt",
        "outputId": "15b1d8fb-adb7-484f-ba43-cef03153deb7"
      },
      "outputs": [
        {
          "name": "stdout",
          "output_type": "stream",
          "text": [
            "Enter your name: jogn\n",
            "Enter your age: 20\n",
            "enter if new or old patient:new\n"
          ]
        }
      ],
      "source": [
        "name = str(input('Enter your name: '))\n",
        "age = int(input('Enter your age: '))\n",
        "patient = str(input('enter if new or old patient:'))"
      ]
    },
    {
      "cell_type": "code",
      "source": [
        "name = str(input(\"WHat is your name: \"))\n",
        "colour = str(input(\"what is your favorite colour: \"))\n",
        "print(name + \" likes \" + colour)"
      ],
      "metadata": {
        "colab": {
          "base_uri": "https://localhost:8080/"
        },
        "id": "kAQhc8hYri4T",
        "outputId": "8784a5f9-e795-44d5-ccc9-d612d6ac5568"
      },
      "execution_count": null,
      "outputs": [
        {
          "output_type": "stream",
          "name": "stdout",
          "text": [
            "WHat is your name: affan\n",
            "what is your favorite colour: grey\n",
            "affan likes grey\n"
          ]
        }
      ]
    }
  ]
}