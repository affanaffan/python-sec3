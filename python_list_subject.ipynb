{
  "nbformat": 4,
  "nbformat_minor": 0,
  "metadata": {
    "colab": {
      "name": "python list subject",
      "provenance": [],
      "collapsed_sections": [],
      "authorship_tag": "ABX9TyOgMUSrhqTRTwKCVibVWCvX",
      "include_colab_link": true
    },
    "kernelspec": {
      "name": "python3",
      "display_name": "Python 3"
    },
    "language_info": {
      "name": "python"
    }
  },
  "cells": [
    {
      "cell_type": "markdown",
      "metadata": {
        "id": "view-in-github",
        "colab_type": "text"
      },
      "source": [
        "<a href=\"https://colab.research.google.com/github/affanaffan/python-sec3/blob/main/python_list_subject.ipynb\" target=\"_parent\"><img src=\"https://colab.research.google.com/assets/colab-badge.svg\" alt=\"Open In Colab\"/></a>"
      ]
    },
    {
      "cell_type": "code",
      "metadata": {
        "colab": {
          "base_uri": "https://localhost:8080/"
        },
        "id": "a1zuDuvbf4xm",
        "outputId": "788522c8-16b5-4728-cf65-fc7179fb07ff"
      },
      "source": [
        "listsubject = [ 'English', ' math', 'science', 'mother tongue']\n",
        "numsubject  = 4\n",
        "counter = 0\n",
        "listmarks = []\n",
        "total = 0\n",
        "highest = 0\n",
        "lowest = 123456787654321\n",
        "fail = 0\n",
        "while counter < numsubject:\n",
        "  mark = eval(input(\"enter number of marks for {}:\".format(listsubject[counter])))\n",
        "  listmarks.append(mark)\n",
        "  if mark < 50:\n",
        "    fail+=1\n",
        "  if counter == 0:\n",
        "    highest = mark\n",
        "    lowest = mark\n",
        "  if mark > highest:\n",
        "    highest  = mark\n",
        "  if mark < lowest:\n",
        "    lowest = mark\n",
        "  total+= mark\n",
        "  counter+=1\n",
        "print(\"average marks is:\",total/counter)\n",
        "print(\"Highest mark is:\",highest)\n",
        "print(\"lowest mark is:\",lowest)\n",
        "print(\"number of failed subjects:\",fail)"
      ],
      "execution_count": 7,
      "outputs": [
        {
          "output_type": "stream",
          "text": [
            "enter number of marks for English:45\n",
            "enter number of marks for  math:55\n",
            "enter number of marks for science:55\n",
            "enter number of marks for mother tongue:65\n",
            "average marks is: 55.0\n",
            "Highest mark is: 65\n",
            "lowest mark is: 45\n",
            "number of failed subjects: 1\n"
          ],
          "name": "stdout"
        }
      ]
    },
    {
      "cell_type": "code",
      "metadata": {
        "id": "420ivdmR_mTQ"
      },
      "source": [
        "listsubject = ['English','math','science','mother tongue']\n",
        "numsubject = 4\n",
        "counter = 0\n",
        "listmarks = 0\n",
        "total = 0\n",
        "highest = 0\n",
        "lowest = 234567\n",
        "fail = 0\n",
        "for i in range(numsubject):\n",
        "  mark = eval(input(\"enter marks for {}:\".format(listsubject[counter])))\n",
        "  listmark.append(mark)\n",
        "  if mark < 50:\n",
        "    fail+=1\n",
        "  if counter == 0:\n",
        "    highest = mark\n",
        "    lowest = mark\n",
        "  if mark > highest:\n",
        "    highest = mark\n",
        "  if mark < lowest:\n",
        "    lowest = mark\n",
        "   total+=mark\n",
        "   counter+=1\n",
        "print(\"{}:{}\".format(listsubject[i],(listmark[i])))\n",
        "#print(listsubject[i])\n",
        "#print(listmark[i])\n",
        "print(\"average mark is:\",total/numsubject)\n",
        "print(\"highest mark is:\",highest) \n",
        "print(\"lowest mark is:\",lowest)\n",
        "print(\"number of subjects failed:\",fail)"
      ],
      "execution_count": null,
      "outputs": []
    }
  ]
}