{
  "nbformat": 4,
  "nbformat_minor": 0,
  "metadata": {
    "colab": {
      "name": "Bukitview_Task2.ipynb",
      "provenance": [],
      "authorship_tag": "ABX9TyNiAwXWuIiBaHAbno6eTSOB",
      "include_colab_link": true
    },
    "kernelspec": {
      "name": "python3",
      "display_name": "Python 3"
    },
    "language_info": {
      "name": "python"
    }
  },
  "cells": [
    {
      "cell_type": "markdown",
      "metadata": {
        "id": "view-in-github",
        "colab_type": "text"
      },
      "source": [
        "<a href=\"https://colab.research.google.com/github/affanaffan/python-sec3/blob/main/Bukitview_Task2.ipynb\" target=\"_parent\"><img src=\"https://colab.research.google.com/assets/colab-badge.svg\" alt=\"Open In Colab\"/></a>"
      ]
    },
    {
      "cell_type": "code",
      "execution_count": null,
      "metadata": {
        "id": "SlUzQW683FD2"
      },
      "outputs": [],
      "source": [
        "scores = []\n",
        "more_input = \"Y\"\n",
        "while more_input == \"Y\":\n",
        "  current_score = float(input(\" please input score: \"))\n",
        "  if current_score < 0.0 or current_score > 100.0:\n",
        "    print(\"score must be between 0 and 100 inclusive\")\n",
        "    print(\"re-enter\")\n",
        "    current_sccore = float(input(\" please input score: \"))\n",
        "\n",
        "  scores = scores + [current_score]\n",
        "  more_input = input(\"Do you want to enter another score? 'Y' or 'N':\")\n",
        "  if more_input != 'Y' and 'N':\n",
        "    print(\"Only 'Y' or 'N' is accepted\")\n",
        "    more_input = input(\"Do you want to enter another score? 'Y' or 'N':\")\n",
        "  print(\"mean score is : \",sum(scores))"
      ]
    }
  ]
}