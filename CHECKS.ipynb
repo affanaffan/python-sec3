{
  "nbformat": 4,
  "nbformat_minor": 0,
  "metadata": {
    "colab": {
      "name": "CHECKS.ipynb",
      "provenance": [],
      "authorship_tag": "ABX9TyPzTEisX3pEfp6XElCsWU9t",
      "include_colab_link": true
    },
    "kernelspec": {
      "name": "python3",
      "display_name": "Python 3"
    },
    "language_info": {
      "name": "python"
    }
  },
  "cells": [
    {
      "cell_type": "markdown",
      "metadata": {
        "id": "view-in-github",
        "colab_type": "text"
      },
      "source": [
        "<a href=\"https://colab.research.google.com/github/affanaffan/python-sec3/blob/main/CHECKS.ipynb\" target=\"_parent\"><img src=\"https://colab.research.google.com/assets/colab-badge.svg\" alt=\"Open In Colab\"/></a>"
      ]
    },
    {
      "cell_type": "code",
      "execution_count": 3,
      "metadata": {
        "colab": {
          "base_uri": "https://localhost:8080/"
        },
        "id": "eKnjJKl8vtB-",
        "outputId": "ef7015be-998b-4068-cc92-15de9680e797"
      },
      "outputs": [
        {
          "output_type": "stream",
          "name": "stdout",
          "text": [
            " Enter your height: 2.2\n",
            "height must be in between 1.2m and 1.8m\n",
            " Enter your height: 1.5\n",
            " You can ride the roller coaster as your height is:1.5m  \n"
          ]
        }
      ],
      "source": [
        "#validation\n",
        "# To ride roller coaster, a person cannot be less than 1.2m and more than 1.8m.\n",
        "\n",
        "height = float(input(\" Enter your height: \"))\n",
        "while height < 1.2 or height > 1.8:\n",
        "  print(\"height must be in between 1.2m and 1.8m\")\n",
        "  height = float(input(\" Enter your height: \"))\n",
        "  \n",
        "\n",
        "print(f\" You can ride the roller coaster as your height is:{height}m  \")\n"
      ]
    },
    {
      "cell_type": "code",
      "source": [
        "idnum = input(\"Enter id num: \").upper()\n",
        "while (idnum[0] != 'E' and idnum[0] != 'A' and idnum[0] != 'T') or idnum[1:].isdigit() == False or len(idnum[1:]) != 4:# I added this part\n",
        "  print(\" Wrong id num, Re-enter\")\n",
        "  idnum = input(\"Enter id num: \").upper()\n",
        "\n",
        "print(\"idnum is : \",idnum)\n"
      ],
      "metadata": {
        "colab": {
          "base_uri": "https://localhost:8080/"
        },
        "id": "HT3elXOAynfF",
        "outputId": "b6a65a3a-8361-41c3-cb63-920795c682f5"
      },
      "execution_count": 9,
      "outputs": [
        {
          "output_type": "stream",
          "name": "stdout",
          "text": [
            "Enter id num: a232433434343434\n",
            " Wrong id num, Re-enter\n",
            "Enter id num: a1234\n",
            "idnum is :  A1234\n"
          ]
        }
      ]
    }
  ]
}