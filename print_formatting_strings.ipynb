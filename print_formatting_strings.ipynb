{
  "nbformat": 4,
  "nbformat_minor": 0,
  "metadata": {
    "colab": {
      "name": "print_formatting_strings.ipynb",
      "provenance": [],
      "authorship_tag": "ABX9TyPVUVdL5OTreQQRNe6bT/qV",
      "include_colab_link": true
    },
    "kernelspec": {
      "name": "python3",
      "display_name": "Python 3"
    },
    "language_info": {
      "name": "python"
    }
  },
  "cells": [
    {
      "cell_type": "markdown",
      "metadata": {
        "id": "view-in-github",
        "colab_type": "text"
      },
      "source": [
        "<a href=\"https://colab.research.google.com/github/affanaffan/python-sec3/blob/main/print_formatting_strings.ipynb\" target=\"_parent\"><img src=\"https://colab.research.google.com/assets/colab-badge.svg\" alt=\"Open In Colab\"/></a>"
      ]
    },
    {
      "cell_type": "code",
      "execution_count": 2,
      "metadata": {
        "id": "NQ4l3qJXIhuC"
      },
      "outputs": [],
      "source": [
        "result = 100/777"
      ]
    },
    {
      "cell_type": "code",
      "source": [
        "result"
      ],
      "metadata": {
        "colab": {
          "base_uri": "https://localhost:8080/"
        },
        "id": "v0NPcpA3bwB_",
        "outputId": "cdb40db6-187f-455a-aa13-2484c7da5dbb"
      },
      "execution_count": 3,
      "outputs": [
        {
          "output_type": "execute_result",
          "data": {
            "text/plain": [
              "0.1287001287001287"
            ]
          },
          "metadata": {},
          "execution_count": 3
        }
      ]
    },
    {
      "cell_type": "code",
      "source": [
        "print(\"the result is {r:1.3f}\".format(r = result))"
      ],
      "metadata": {
        "colab": {
          "base_uri": "https://localhost:8080/"
        },
        "id": "_k-Fdr_NbzUY",
        "outputId": "171bc5d1-193e-4418-e952-37b3960ae094"
      },
      "execution_count": 4,
      "outputs": [
        {
          "output_type": "stream",
          "name": "stdout",
          "text": [
            "the result is 0.129\n"
          ]
        }
      ]
    },
    {
      "cell_type": "code",
      "source": [
        "name = 'jose'\n",
        "print(f'hello name is {name}')"
      ],
      "metadata": {
        "colab": {
          "base_uri": "https://localhost:8080/"
        },
        "id": "DuvC5S4jcSIB",
        "outputId": "75f1eb03-9bfb-4e59-a198-41673f729fd6"
      },
      "execution_count": 7,
      "outputs": [
        {
          "output_type": "stream",
          "name": "stdout",
          "text": [
            "hello name is jose\n"
          ]
        }
      ]
    },
    {
      "cell_type": "code",
      "source": [
        "age = 6\n",
        "print(f'{name} is {age} years old')"
      ],
      "metadata": {
        "colab": {
          "base_uri": "https://localhost:8080/"
        },
        "id": "PLaXhMHycgY3",
        "outputId": "a9362e39-c383-4353-bd59-be404bdf270e"
      },
      "execution_count": 6,
      "outputs": [
        {
          "output_type": "stream",
          "name": "stdout",
          "text": [
            "jose is 6 years old\n"
          ]
        }
      ]
    }
  ]
}