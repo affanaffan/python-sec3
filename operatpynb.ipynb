{
  "nbformat": 4,
  "nbformat_minor": 0,
  "metadata": {
    "colab": {
      "name": "operatpynb",
      "provenance": [],
      "authorship_tag": "ABX9TyPDFQ1MkMq7acoV2I7KWBgY",
      "include_colab_link": true
    },
    "kernelspec": {
      "name": "python3",
      "display_name": "Python 3"
    },
    "language_info": {
      "name": "python"
    }
  },
  "cells": [
    {
      "cell_type": "markdown",
      "metadata": {
        "id": "view-in-github",
        "colab_type": "text"
      },
      "source": [
        "<a href=\"https://colab.research.google.com/github/affanaffan/python-sec3/blob/main/operatpynb.ipynb\" target=\"_parent\"><img src=\"https://colab.research.google.com/assets/colab-badge.svg\" alt=\"Open In Colab\"/></a>"
      ]
    },
    {
      "cell_type": "code",
      "execution_count": 4,
      "metadata": {
        "colab": {
          "base_uri": "https://localhost:8080/"
        },
        "id": "GIOqZlN01rMn",
        "outputId": "148d90cc-84ae-42ba-89ef-6546f08b57e7"
      },
      "outputs": [
        {
          "output_type": "stream",
          "name": "stdout",
          "text": [
            "letter at index 0 is A\n",
            "letter at index 1 is B\n",
            "letter at index 2 is C\n",
            "letter at index 3 is D\n",
            "letter at index 4 is E\n",
            "letter at index 5 is F\n"
          ]
        }
      ],
      "source": [
        "index_count = 0\n",
        "\n",
        "for letter in 'ABCDEF':\n",
        "  print(\"letter at index {} is {}\".format(index_count,letter))\n",
        "  index_count +=1"
      ]
    },
    {
      "cell_type": "code",
      "source": [
        "index_count = 0\n",
        "word = 'ABCDEF'\n",
        "for letter in word:\n",
        "  print(word[index_count])\n",
        "  index_count+=1\n",
        "  "
      ],
      "metadata": {
        "colab": {
          "base_uri": "https://localhost:8080/"
        },
        "id": "W5U3WZB42fYq",
        "outputId": "55570168-1cd1-4cc1-e3bb-29843e1029a3"
      },
      "execution_count": 5,
      "outputs": [
        {
          "output_type": "stream",
          "name": "stdout",
          "text": [
            "A\n",
            "B\n",
            "C\n",
            "D\n",
            "E\n",
            "F\n"
          ]
        }
      ]
    },
    {
      "cell_type": "code",
      "source": [
        "index_count = 0\n",
        "\n",
        "for letter in enumerate(word):\n",
        "  print(letter)\n",
        "  index_count+=1"
      ],
      "metadata": {
        "colab": {
          "base_uri": "https://localhost:8080/"
        },
        "id": "N5WpAYaU24JW",
        "outputId": "a25512f5-bb12-4bb5-df10-b5dcde670c50"
      },
      "execution_count": 7,
      "outputs": [
        {
          "output_type": "stream",
          "name": "stdout",
          "text": [
            "(0, 'A')\n",
            "(1, 'B')\n",
            "(2, 'C')\n",
            "(3, 'D')\n",
            "(4, 'E')\n",
            "(5, 'F')\n"
          ]
        }
      ]
    },
    {
      "cell_type": "code",
      "source": [
        "mylist1 = [1,2,3]\n",
        "mylist2 = ['a','b','c']\n",
        "zip(mylist1,mylist2)\n",
        "list(zip(mylist1,mylist2))"
      ],
      "metadata": {
        "colab": {
          "base_uri": "https://localhost:8080/"
        },
        "id": "AuvfBPqQ4SC4",
        "outputId": "00311df9-4ad3-4cdc-a550-015bf56d2e89"
      },
      "execution_count": 9,
      "outputs": [
        {
          "output_type": "execute_result",
          "data": {
            "text/plain": [
              "[(1, 'a'), (2, 'b'), (3, 'c')]"
            ]
          },
          "metadata": {},
          "execution_count": 9
        }
      ]
    }
  ]
}