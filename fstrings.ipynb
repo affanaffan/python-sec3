{
  "nbformat": 4,
  "nbformat_minor": 0,
  "metadata": {
    "colab": {
      "name": "fstrings.ipynb",
      "provenance": [],
      "collapsed_sections": [],
      "authorship_tag": "ABX9TyNfW+AdHlfuGWoZiO1t5jJu",
      "include_colab_link": true
    },
    "kernelspec": {
      "name": "python3",
      "display_name": "Python 3"
    },
    "language_info": {
      "name": "python"
    }
  },
  "cells": [
    {
      "cell_type": "markdown",
      "metadata": {
        "id": "view-in-github",
        "colab_type": "text"
      },
      "source": [
        "<a href=\"https://colab.research.google.com/github/affanaffan/python-sec3/blob/main/fstrings.ipynb\" target=\"_parent\"><img src=\"https://colab.research.google.com/assets/colab-badge.svg\" alt=\"Open In Colab\"/></a>"
      ]
    },
    {
      "cell_type": "code",
      "execution_count": 1,
      "metadata": {
        "colab": {
          "base_uri": "https://localhost:8080/"
        },
        "id": "ftYeIu9guEHC",
        "outputId": "d39ad312-9289-45f2-b70b-817fdbf57b11"
      },
      "outputs": [
        {
          "output_type": "stream",
          "name": "stdout",
          "text": [
            "birth year: 2006\n",
            "your age is :  15\n"
          ]
        }
      ],
      "source": [
        "birth_year = int(input(\"birth year: \"))\n",
        "age = 2021 - birth_year\n",
        "print(\"your age is : \",age)"
      ]
    },
    {
      "cell_type": "code",
      "source": [
        "weight_lbs = int(input(\"Enter your weigh(lbs)t: \"))\n",
        "weight_kg  = weight_lbs * 0.45\n",
        "print(weight_kg)"
      ],
      "metadata": {
        "colab": {
          "base_uri": "https://localhost:8080/"
        },
        "id": "ubeZ8bi3vBDt",
        "outputId": "c01858a3-71ff-46c4-944c-9b11c3de1629"
      },
      "execution_count": 3,
      "outputs": [
        {
          "output_type": "stream",
          "name": "stdout",
          "text": [
            "Enter your weigh(lbs)t: 140\n",
            "63.0\n"
          ]
        }
      ]
    },
    {
      "cell_type": "code",
      "source": [
        "first = 'john'\n",
        "last  = 'smith'\n",
        "message = first + ' [' + last + '] is a coder'\n",
        "msg = f'{first} [{last}] is a coder'\n",
        "print(message)\n",
        "print(msg)"
      ],
      "metadata": {
        "colab": {
          "base_uri": "https://localhost:8080/"
        },
        "id": "hooFNZNdxXEY",
        "outputId": "105f7e72-a0ba-478a-8ddc-3c4e9a115771"
      },
      "execution_count": 7,
      "outputs": [
        {
          "output_type": "stream",
          "name": "stdout",
          "text": [
            "john [smith] is a coder\n",
            "john [smith] is a coder\n"
          ]
        }
      ]
    }
  ]
}