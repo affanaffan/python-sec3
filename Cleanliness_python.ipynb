{
  "nbformat": 4,
  "nbformat_minor": 0,
  "metadata": {
    "colab": {
      "name": "Cleanliness python",
      "provenance": [],
      "authorship_tag": "ABX9TyPvEd0DklfA2FNNiQaPfAWk",
      "include_colab_link": true
    },
    "kernelspec": {
      "name": "python3",
      "display_name": "Python 3"
    },
    "language_info": {
      "name": "python"
    }
  },
  "cells": [
    {
      "cell_type": "markdown",
      "metadata": {
        "id": "view-in-github",
        "colab_type": "text"
      },
      "source": [
        "<a href=\"https://colab.research.google.com/github/affanaffan/python-sec3/blob/main/Cleanliness_python.ipynb\" target=\"_parent\"><img src=\"https://colab.research.google.com/assets/colab-badge.svg\" alt=\"Open In Colab\"/></a>"
      ]
    },
    {
      "cell_type": "code",
      "metadata": {
        "id": "p-TPcvIAh3gL"
      },
      "source": [
        "ctscore = 6\n",
        "total = 0\n",
        "cttscore = 0\n",
        "highest = 0\n",
        "lowest =4\n",
        "\n",
        "flag = True\n",
        "while cttscore < ctscore:\n",
        "   flag = False\n",
        "   inputscore = eval(input(\"enter cleanliness data\" + str(cttscore+1) +\":\"))\n",
        "   if inputscore < 1 or inputscore > 4:\n",
        "     flag = True\n",
        "     print(\"invalid\") and eval(input(\"cleanliness data\")+ str(cttscore+1) +\":\" )\n",
        "   else:\n",
        "     flag = False\n",
        "   if flag == False:\n",
        "     if ctscore == 0:\n",
        "       highest = 0\n",
        "       lowest = 0\n",
        "     if inputscore > highest:\n",
        "       highest = inputscore\n",
        "     if inputscore < lowest:\n",
        "       lowest =inputscore\n",
        "       \n",
        "     cttscore+=1\n",
        "     total+= inputscore\n",
        "print(\"total cleanliness data:\",total)\n",
        "print(\"average cleanliness data is:\",total/ctscore)\n",
        "print(\"highest score is:\",highest)\n",
        "print(\"lowest score is:\",lowest)"
      ],
      "execution_count": null,
      "outputs": []
    },
    {
      "cell_type": "markdown",
      "metadata": {
        "id": "bioINLw5PLmr"
      },
      "source": [
        ""
      ]
    },
    {
      "cell_type": "code",
      "metadata": {
        "id": "7otENc4wPMGA"
      },
      "source": [
        ""
      ],
      "execution_count": null,
      "outputs": []
    },
    {
      "cell_type": "markdown",
      "metadata": {
        "id": "SrN7MVm3PMaE"
      },
      "source": [
        ""
      ]
    }
  ]
}