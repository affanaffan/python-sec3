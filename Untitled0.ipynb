{
  "nbformat": 4,
  "nbformat_minor": 0,
  "metadata": {
    "colab": {
      "name": "Untitled0.ipynb",
      "provenance": [],
      "collapsed_sections": [],
      "authorship_tag": "ABX9TyOduHQRLC+rauPMaD7bfYsz",
      "include_colab_link": true
    },
    "kernelspec": {
      "name": "python3",
      "display_name": "Python 3"
    },
    "language_info": {
      "name": "python"
    }
  },
  "cells": [
    {
      "cell_type": "markdown",
      "metadata": {
        "id": "view-in-github",
        "colab_type": "text"
      },
      "source": [
        "<a href=\"https://colab.research.google.com/github/affanaffan/python-sec3/blob/main/Untitled0.ipynb\" target=\"_parent\"><img src=\"https://colab.research.google.com/assets/colab-badge.svg\" alt=\"Open In Colab\"/></a>"
      ]
    },
    {
      "cell_type": "code",
      "metadata": {
        "id": "NhUIKnpNJilY",
        "colab": {
          "base_uri": "https://localhost:8080/"
        },
        "outputId": "3e15a68b-d070-4ed8-a77f-0134ee3e43cc"
      },
      "source": [
        "\n",
        "#mylist = random.sample(range(1, 100), 20)\n",
        "\n",
        "num =[a for a in range(1,100)]\n",
        "result = random.choices(num,k=20)\n",
        "#mylist.append(result)\n",
        "\n",
        "print(result)\n",
        "print(\"averag is:\",sum(result)/20)"
      ],
      "execution_count": null,
      "outputs": [
        {
          "output_type": "stream",
          "text": [
            "[62, 88, 14, 73, 31, 16, 50, 98, 2, 74, 67, 5, 1, 59, 60, 19, 26, 93, 50, 48]\n",
            "averag is: 46.8\n"
          ],
          "name": "stdout"
        }
      ]
    },
    {
      "cell_type": "code",
      "metadata": {
        "colab": {
          "base_uri": "https://localhost:8080/"
        },
        "id": "17UmmeoflaOj",
        "outputId": "1a58cb06-c868-452d-ecce-0d08373c2173"
      },
      "source": [
        "\n",
        "from datetime import datetime\n",
        "import random\n",
        "\n",
        "\n",
        "random.seed(datetime.now())\n",
        "mylist = [random.randint(1, 100)for i in range(20)]\n",
        "#mylist.sort()\n",
        "\n",
        "print(mylist)\n",
        "print(\"The average is:\", sum(num)/20)\n",
        "print(\"largest number is:\", mylist[0])\n",
        "print(\"smallest number is:\", mylist[-1])\n"
      ],
      "execution_count": null,
      "outputs": [
        {
          "output_type": "stream",
          "text": [
            "[95, 93, 38, 98, 81, 34, 55, 3, 73, 85, 36, 73, 97, 92, 35, 38, 10, 13, 55, 16]\n",
            "The average is: 51.2\n",
            "largest number is: 95\n",
            "smallest number is: 16\n"
          ],
          "name": "stdout"
        }
      ]
    },
    {
      "cell_type": "code",
      "metadata": {
        "colab": {
          "base_uri": "https://localhost:8080/"
        },
        "id": "Gghffjwx_Wsb",
        "outputId": "20e7f059-62c3-4e62-bc59-9bedb7e11614"
      },
      "source": [
        "\n",
        "from datetime import datetime\n",
        "import random\n",
        "\n",
        "\n",
        "random.seed(datetime.now())\n",
        "mylist = [random.randint(1, 100)for i in range(20)]\n",
        "\n",
        "\n",
        "if mylist[0] < mylist[-1]:\n",
        "  smallestvalue = mylist[0]\n",
        "  secondsmallestvalue = mylist[-1]\n",
        "else:\n",
        "  smallestvalue = mylist[-1]\n",
        "  secondsmallestvalue = mylist[0] \n",
        "if mylist[0] > mylist[1]:\n",
        "  largestValue = mylist[0]\n",
        "  secondlargestValue = mylist[1]    \n",
        "else:\n",
        "  largestValue = mylist[1]\n",
        "  secondlargestValue = mylist[0]\n",
        "\n",
        "for num in mylist:\n",
        "  if num > largestValue:\n",
        "    secondlargestValue = largestValue\n",
        "    largestValue = num\n",
        "  if num < smallestvalue:\n",
        "    sceondsmallestvalue = smallestvalue\n",
        "    smallestvalue = num\n",
        "print(mylist)\n",
        "print(\"largest Value: \", largestValue)\n",
        "print(\"smallest value:\",smallestvalue)\n",
        "print(\"Second largest Value: \", secondlargestValue)\n",
        "print(\"Second smallest value:\",secondsmallestvalue)\n",
        "\n"
      ],
      "execution_count": null,
      "outputs": [
        {
          "output_type": "stream",
          "text": [
            "[44, 35, 61, 56, 71, 32, 61, 68, 82, 41, 87, 42, 23, 26, 49, 25, 71, 25, 32, 22]\n",
            "largest Value:  87\n",
            "smallest value: 22\n",
            "Second largest Value:  82\n",
            "Second smallest value: 44\n"
          ],
          "name": "stdout"
        }
      ]
    },
    {
      "cell_type": "code",
      "metadata": {
        "colab": {
          "base_uri": "https://localhost:8080/",
          "height": 357
        },
        "id": "ktBHwxC1aYNT",
        "outputId": "56055866-7a04-45e7-c79b-268d4c98cc01"
      },
      "source": [
        "print(\"\")\n",
        "print(\"2D list creating the inner list using input from user\")\n",
        "# first list of 3 numbers\n",
        "innercount = 4   # inner count using j in the inner for loop\n",
        "\n",
        "outercount = 3   # outer count using i in the outer for loop\n",
        "innerlist =[0]*innercount  # make a list of zeros for inner list\n",
        "outerlist = []  # make an empty list for outer list\n",
        "sum = []\n",
        "for i in range(outercount):   # count number of item in outer list\n",
        "    innerlist =[0]*innercount    # initialise inner to zero at every use\n",
        "    for j in range(innercount):    # count number of items in inner list\n",
        "        num = eval(input(\"Enter value {}: \".format(j+1)))\n",
        "        innerlist[j] = num   # assign value to inner list item\n",
        "    print(\"inner list: \", innerlist)\n",
        "    outerlist.append(innerlist)   # use append to append inner list to outerlist\n",
        "print(\"inner list: \", outerlist)\n",
        "print(innercount)\n",
        "\n"
      ],
      "execution_count": null,
      "outputs": [
        {
          "output_type": "stream",
          "text": [
            "\n",
            "2D list creating the inner list using input from user\n",
            "Enter value 1: 1\n",
            "Enter value 2: 2\n",
            "Enter value 3: 3\n",
            "Enter value 4: 4\n",
            "inner list:  [1, 2, 3, 4]\n"
          ],
          "name": "stdout"
        },
        {
          "output_type": "error",
          "ename": "TypeError",
          "evalue": "ignored",
          "traceback": [
            "\u001b[0;31m---------------------------------------------------------------------------\u001b[0m",
            "\u001b[0;31mTypeError\u001b[0m                                 Traceback (most recent call last)",
            "\u001b[0;32m<ipython-input-15-db65cd0b1478>\u001b[0m in \u001b[0;36m<module>\u001b[0;34m()\u001b[0m\n\u001b[1;32m     14\u001b[0m         \u001b[0minnerlist\u001b[0m\u001b[0;34m[\u001b[0m\u001b[0mj\u001b[0m\u001b[0;34m]\u001b[0m \u001b[0;34m=\u001b[0m \u001b[0mnum\u001b[0m   \u001b[0;31m# assign value to inner list item\u001b[0m\u001b[0;34m\u001b[0m\u001b[0;34m\u001b[0m\u001b[0m\n\u001b[1;32m     15\u001b[0m     \u001b[0mprint\u001b[0m\u001b[0;34m(\u001b[0m\u001b[0;34m\"inner list: \"\u001b[0m\u001b[0;34m,\u001b[0m \u001b[0minnerlist\u001b[0m\u001b[0;34m)\u001b[0m\u001b[0;34m\u001b[0m\u001b[0;34m\u001b[0m\u001b[0m\n\u001b[0;32m---> 16\u001b[0;31m     \u001b[0mprint\u001b[0m\u001b[0;34m(\u001b[0m\u001b[0msum\u001b[0m\u001b[0;34m(\u001b[0m\u001b[0minnerlist\u001b[0m\u001b[0;34m)\u001b[0m\u001b[0;34m)\u001b[0m\u001b[0;34m\u001b[0m\u001b[0;34m\u001b[0m\u001b[0m\n\u001b[0m\u001b[1;32m     17\u001b[0m     \u001b[0;31m#print(\"average:\",sum/innercount)\u001b[0m\u001b[0;34m\u001b[0m\u001b[0;34m\u001b[0m\u001b[0;34m\u001b[0m\u001b[0m\n\u001b[1;32m     18\u001b[0m     \u001b[0mouterlist\u001b[0m\u001b[0;34m.\u001b[0m\u001b[0mappend\u001b[0m\u001b[0;34m(\u001b[0m\u001b[0minnerlist\u001b[0m\u001b[0;34m)\u001b[0m   \u001b[0;31m# use append to append inner list to outerlist\u001b[0m\u001b[0;34m\u001b[0m\u001b[0;34m\u001b[0m\u001b[0m\n",
            "\u001b[0;31mTypeError\u001b[0m: 'list' object is not callable"
          ]
        }
      ]
    }
  ]
}